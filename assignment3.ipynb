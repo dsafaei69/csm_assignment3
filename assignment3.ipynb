{
 "cells": [
  {
   "cell_type": "code",
   "execution_count": 1,
   "metadata": {},
   "outputs": [],
   "source": [
    "import json\n",
    "import os\n",
    "import string\n",
    "import re\n",
    "import numpy as np\n",
    "from nltk.stem import WordNetLemmatizer\n",
    "from nltk.corpus import stopwords\n",
    "from nltk.tokenize import sent_tokenize, word_tokenize\n",
    "import gensim\n",
    "import lda\n"
   ]
  },
  {
   "cell_type": "code",
   "execution_count": 2,
   "metadata": {},
   "outputs": [],
   "source": [
    "#setting a path\n",
    "os.chdir('/Users/dorsasafaei/Documents/computational-social-media/assignment#3')"
   ]
  },
  {
   "cell_type": "code",
   "execution_count": 3,
   "metadata": {},
   "outputs": [],
   "source": [
    "# 1) reading json file\n",
    "tweetFile = open('./data/covidtrack_50K.json', 'r') \n",
    "tweetLines = tweetFile.readlines() \n",
    "data = []\n",
    "for tweet in tweetLines:\n",
    "    data.append(json.loads(tweet, strict=False))"
   ]
  },
  {
   "cell_type": "code",
   "execution_count": 4,
   "metadata": {},
   "outputs": [],
   "source": [
    "lengthOfData = len(data)"
   ]
  },
  {
   "cell_type": "code",
   "execution_count": 5,
   "metadata": {},
   "outputs": [],
   "source": [
    "# join tweets\n",
    "text = list(map(lambda x: x['text'], data))"
   ]
  },
  {
   "cell_type": "code",
   "execution_count": 6,
   "metadata": {
    "tags": [
     "outputPrepend",
     "outputPrepend",
     "outputPrepend",
     "outputPrepend",
     "outputPrepend",
     "outputPrepend",
     "outputPrepend",
     "outputPrepend",
     "outputPrepend",
     "outputPrepend",
     "outputPrepend",
     "outputPrepend",
     "outputPrepend",
     "outputPrepend",
     "outputPrepend",
     "outputPrepend",
     "outputPrepend",
     "outputPrepend",
     "outputPrepend",
     "outputPrepend",
     "outputPrepend",
     "outputPrepend",
     "outputPrepend",
     "outputPrepend",
     "outputPrepend",
     "outputPrepend",
     "outputPrepend",
     "outputPrepend",
     "outputPrepend",
     "outputPrepend"
    ]
   },
   "outputs": [],
   "source": [
    "# 2.a)lower case text\n",
    "text = list(map(lambda x: x.lower(), text))"
   ]
  },
  {
   "cell_type": "code",
   "execution_count": 15,
   "metadata": {},
   "outputs": [],
   "source": [
    "# 2.b)remove non-alphanumeric we did not consider _ - as alphanumeric\n",
    "text = list(map(lambda x: re.sub(r'[^a-z0-9 ]+', \" \", x), text))"
   ]
  },
  {
   "cell_type": "code",
   "execution_count": 16,
   "metadata": {
    "tags": [
     "outputPrepend",
     "outputPrepend",
     "outputPrepend",
     "outputPrepend",
     "outputPrepend",
     "outputPrepend",
     "outputPrepend",
     "outputPrepend",
     "outputPrepend",
     "outputPrepend",
     "outputPrepend",
     "outputPrepend",
     "outputPrepend",
     "outputPrepend",
     "outputPrepend",
     "outputPrepend",
     "outputPrepend",
     "outputPrepend",
     "outputPrepend",
     "outputPrepend",
     "outputPrepend",
     "outputPrepend",
     "outputPrepend",
     "outputPrepend",
     "outputPrepend",
     "outputPrepend",
     "outputPrepend",
     "outputPrepend",
     "outputPrepend"
    ]
   },
   "outputs": [],
   "source": [
    "# 2.c)\n",
    "for count in range(len(text)):  \n",
    "    # split text   \n",
    "    text_split = text[count].split(\" \")\n",
    "    # remove words with less than 3 char\n",
    "    text[count] = \" \".join(list(filter(lambda x: len(x)>3, text_split)))"
   ]
  },
  {
   "cell_type": "code",
   "execution_count": 17,
   "metadata": {},
   "outputs": [],
   "source": [
    "# 2.e) converting a word to its base form\n",
    "wnl = WordNetLemmatizer()\n",
    "for count in range(len(text)): \n",
    "        text[count] = \" \".join(list(map(lambda x: wnl.lemmatize(x), text[count].split(\" \") ) ) )"
   ]
  },
  {
   "cell_type": "code",
   "execution_count": 18,
   "metadata": {},
   "outputs": [],
   "source": [
    "# 2.f) remove stop words\n",
    "stop_words =  set(stopwords.words('english'))\n",
    "for count in range(len(text)): \n",
    "    text[count] = \" \".join(list(filter(lambda x: x not in stop_words, word_tokenize(text[count]))))"
   ]
  },
  {
   "cell_type": "code",
   "execution_count": 19,
   "metadata": {},
   "outputs": [],
   "source": [
    "# create unique list of words per document\n",
    "wordUniq = \"\"\n",
    "for count in range(len(text)): \n",
    "    wordUniq = wordUniq + \" \" + \" \".join(set(word_tokenize(text[count])))"
   ]
  },
  {
   "cell_type": "code",
   "execution_count": 28,
   "metadata": {},
   "outputs": [],
   "source": [
    "# 3.a) Remove words that occur in less than 10 documents, and words that occur in more than 90% of the documents\n",
    "# however it is more efficient to keep the list of words to keep as it is a smaller set\n",
    "wordUniqTokenize = word_tokenize(wordUniq)\n",
    "words2Remove = []\n",
    "for x in set(wordUniqTokenize):\n",
    "    if wordUniqTokenize.count(x) < 11:\n",
    "        words2Remove.append(x)\n",
    "    if wordUniqTokenize.count(x) >= round(.9 * len(text)):\n",
    "        words2Remove.append(x)\n",
    "\n",
    "for count in range(len(text)): \n",
    "    text[count] = \" \".join(list(filter(lambda x: x not in words2Remove, word_tokenize(text[count]))))"
   ]
  },
  {
   "cell_type": "code",
   "execution_count": 20,
   "metadata": {},
   "outputs": [],
   "source": [
    "# 3.b) Build a dictionary\n",
    "wordUniqTokenize = word_tokenize(wordUniq)\n",
    "dictionary = []\n",
    "for x in set(wordUniqTokenize):\n",
    "    if (wordUniqTokenize.count(x) > 10) and (wordUniqTokenize.count(x) < round(.9 * len(text))):\n",
    "        dictionary.append(x)"
   ]
  },
  {
   "cell_type": "code",
   "execution_count": 33,
   "metadata": {},
   "outputs": [
    {
     "output_type": "execute_result",
     "data": {
      "text/plain": "4404"
     },
     "metadata": {},
     "execution_count": 33
    }
   ],
   "source": [
    "# number of words to keep,as in the bound\n",
    "len(dictionary)"
   ]
  },
  {
   "cell_type": "code",
   "execution_count": 34,
   "metadata": {},
   "outputs": [
    {
     "output_type": "execute_result",
     "data": {
      "text/plain": "38290"
     },
     "metadata": {},
     "execution_count": 34
    }
   ],
   "source": [
    "# number of words to remove because not in the threshold\n",
    "len(words2Remove)"
   ]
  },
  {
   "cell_type": "code",
   "execution_count": 37,
   "metadata": {},
   "outputs": [
    {
     "output_type": "execute_result",
     "data": {
      "text/plain": "True"
     },
     "metadata": {},
     "execution_count": 37
    }
   ],
   "source": [
    "# check if the two calculation method for words in and out make to the whole number\n",
    "len(words2Remove) + len(dictionary) == len(set(wordUniqTokenize))"
   ]
  },
  {
   "cell_type": "code",
   "execution_count": 22,
   "metadata": {},
   "outputs": [],
   "source": [
    "# keep the words after filter unnecassry words for topic extraction\n",
    "for count in range(len(text)): \n",
    "    text[count] = \" \".join(list(filter(lambda x: x  in dictionary, word_tokenize(text[count]))))"
   ]
  },
  {
   "cell_type": "code",
   "execution_count": 23,
   "metadata": {},
   "outputs": [],
   "source": [
    "# 3.c: extract word freq per document\n",
    "word_freq = np.zeros([len(text), len(dictionary)], dtype=int)\n",
    "for count in range(len(text)): \n",
    "    text_tokenize = word_tokenize(text[count])\n",
    "    word_freq[count,] = list(map(lambda x: text_tokenize.count(x), dictionary))\n"
   ]
  },
  {
   "cell_type": "code",
   "execution_count": 24,
   "metadata": {},
   "outputs": [
    {
     "output_type": "execute_result",
     "data": {
      "text/plain": "0"
     },
     "metadata": {},
     "execution_count": 24
    }
   ],
   "source": [
    "# check any row is zero (there should not be any)\n",
    "sum(np.sum(word_freq, 0) == 0)"
   ]
  },
  {
   "cell_type": "code",
   "execution_count": 25,
   "metadata": {},
   "outputs": [
    {
     "output_type": "stream",
     "name": "stderr",
     "text": "INFO:lda:n_documents: 50000\nINFO:lda:vocab_size: 4404\nINFO:lda:n_words: 415699\nINFO:lda:n_topics: 20\nINFO:lda:n_iter: 1500\nWARNING:lda:all zero row in document-term matrix found\nINFO:lda:<0> log likelihood: -4846181\nINFO:lda:<10> log likelihood: -2992754\nINFO:lda:<20> log likelihood: -2850711\nINFO:lda:<30> log likelihood: -2821051\nINFO:lda:<40> log likelihood: -2810245\nINFO:lda:<50> log likelihood: -2803025\nINFO:lda:<60> log likelihood: -2799259\nINFO:lda:<70> log likelihood: -2796197\nINFO:lda:<80> log likelihood: -2793214\nINFO:lda:<90> log likelihood: -2791447\nINFO:lda:<100> log likelihood: -2788975\nINFO:lda:<110> log likelihood: -2789031\nINFO:lda:<120> log likelihood: -2787932\nINFO:lda:<130> log likelihood: -2787089\nINFO:lda:<140> log likelihood: -2785746\nINFO:lda:<150> log likelihood: -2785018\nINFO:lda:<160> log likelihood: -2783960\nINFO:lda:<170> log likelihood: -2780791\nINFO:lda:<180> log likelihood: -2781155\nINFO:lda:<190> log likelihood: -2779919\nINFO:lda:<200> log likelihood: -2778245\nINFO:lda:<210> log likelihood: -2777076\nINFO:lda:<220> log likelihood: -2776878\nINFO:lda:<230> log likelihood: -2775837\nINFO:lda:<240> log likelihood: -2775040\nINFO:lda:<250> log likelihood: -2774341\nINFO:lda:<260> log likelihood: -2773055\nINFO:lda:<270> log likelihood: -2772682\nINFO:lda:<280> log likelihood: -2772505\nINFO:lda:<290> log likelihood: -2772634\nINFO:lda:<300> log likelihood: -2772208\nINFO:lda:<310> log likelihood: -2772722\nINFO:lda:<320> log likelihood: -2771580\nINFO:lda:<330> log likelihood: -2772511\nINFO:lda:<340> log likelihood: -2771748\nINFO:lda:<350> log likelihood: -2771612\nINFO:lda:<360> log likelihood: -2770349\nINFO:lda:<370> log likelihood: -2770179\nINFO:lda:<380> log likelihood: -2771291\nINFO:lda:<390> log likelihood: -2770463\nINFO:lda:<400> log likelihood: -2770130\nINFO:lda:<410> log likelihood: -2770510\nINFO:lda:<420> log likelihood: -2770564\nINFO:lda:<430> log likelihood: -2770019\nINFO:lda:<440> log likelihood: -2769412\nINFO:lda:<450> log likelihood: -2770192\nINFO:lda:<460> log likelihood: -2769678\nINFO:lda:<470> log likelihood: -2769186\nINFO:lda:<480> log likelihood: -2769550\nINFO:lda:<490> log likelihood: -2768999\nINFO:lda:<500> log likelihood: -2768932\nINFO:lda:<510> log likelihood: -2768242\nINFO:lda:<520> log likelihood: -2769430\nINFO:lda:<530> log likelihood: -2769419\nINFO:lda:<540> log likelihood: -2768258\nINFO:lda:<550> log likelihood: -2768582\nINFO:lda:<560> log likelihood: -2768477\nINFO:lda:<570> log likelihood: -2768160\nINFO:lda:<580> log likelihood: -2767284\nINFO:lda:<590> log likelihood: -2767918\nINFO:lda:<600> log likelihood: -2768739\nINFO:lda:<610> log likelihood: -2766785\nINFO:lda:<620> log likelihood: -2767451\nINFO:lda:<630> log likelihood: -2766649\nINFO:lda:<640> log likelihood: -2766918\nINFO:lda:<650> log likelihood: -2767561\nINFO:lda:<660> log likelihood: -2767276\nINFO:lda:<670> log likelihood: -2765282\nINFO:lda:<680> log likelihood: -2765530\nINFO:lda:<690> log likelihood: -2766792\nINFO:lda:<700> log likelihood: -2766848\nINFO:lda:<710> log likelihood: -2766342\nINFO:lda:<720> log likelihood: -2766472\nINFO:lda:<730> log likelihood: -2767072\nINFO:lda:<740> log likelihood: -2767209\nINFO:lda:<750> log likelihood: -2766254\nINFO:lda:<760> log likelihood: -2766473\nINFO:lda:<770> log likelihood: -2765731\nINFO:lda:<780> log likelihood: -2766471\nINFO:lda:<790> log likelihood: -2765759\nINFO:lda:<800> log likelihood: -2765953\nINFO:lda:<810> log likelihood: -2766975\nINFO:lda:<820> log likelihood: -2764944\nINFO:lda:<830> log likelihood: -2766614\nINFO:lda:<840> log likelihood: -2765762\nINFO:lda:<850> log likelihood: -2766041\nINFO:lda:<860> log likelihood: -2765285\nINFO:lda:<870> log likelihood: -2765558\nINFO:lda:<880> log likelihood: -2765421\nINFO:lda:<890> log likelihood: -2765897\nINFO:lda:<900> log likelihood: -2765215\nINFO:lda:<910> log likelihood: -2765485\nINFO:lda:<920> log likelihood: -2765939\nINFO:lda:<930> log likelihood: -2764952\nINFO:lda:<940> log likelihood: -2765872\nINFO:lda:<950> log likelihood: -2765567\nINFO:lda:<960> log likelihood: -2765041\nINFO:lda:<970> log likelihood: -2764921\nINFO:lda:<980> log likelihood: -2765224\nINFO:lda:<990> log likelihood: -2764024\nINFO:lda:<1000> log likelihood: -2764489\nINFO:lda:<1010> log likelihood: -2764608\nINFO:lda:<1020> log likelihood: -2765186\nINFO:lda:<1030> log likelihood: -2764985\nINFO:lda:<1040> log likelihood: -2764889\nINFO:lda:<1050> log likelihood: -2764682\nINFO:lda:<1060> log likelihood: -2764854\nINFO:lda:<1070> log likelihood: -2764391\nINFO:lda:<1080> log likelihood: -2763910\nINFO:lda:<1090> log likelihood: -2764972\nINFO:lda:<1100> log likelihood: -2764014\nINFO:lda:<1110> log likelihood: -2764151\nINFO:lda:<1120> log likelihood: -2765329\nINFO:lda:<1130> log likelihood: -2764375\nINFO:lda:<1140> log likelihood: -2765394\nINFO:lda:<1150> log likelihood: -2764758\nINFO:lda:<1160> log likelihood: -2764798\nINFO:lda:<1170> log likelihood: -2764125\nINFO:lda:<1180> log likelihood: -2764452\nINFO:lda:<1190> log likelihood: -2764352\nINFO:lda:<1200> log likelihood: -2764488\nINFO:lda:<1210> log likelihood: -2763715\nINFO:lda:<1220> log likelihood: -2764120\nINFO:lda:<1230> log likelihood: -2764315\nINFO:lda:<1240> log likelihood: -2764178\nINFO:lda:<1250> log likelihood: -2764621\nINFO:lda:<1260> log likelihood: -2763890\nINFO:lda:<1270> log likelihood: -2764769\nINFO:lda:<1280> log likelihood: -2765531\nINFO:lda:<1290> log likelihood: -2764828\nINFO:lda:<1300> log likelihood: -2764580\nINFO:lda:<1310> log likelihood: -2765263\nINFO:lda:<1320> log likelihood: -2765021\nINFO:lda:<1330> log likelihood: -2764275\nINFO:lda:<1340> log likelihood: -2764087\nINFO:lda:<1350> log likelihood: -2765133\nINFO:lda:<1360> log likelihood: -2765341\nINFO:lda:<1370> log likelihood: -2765002\nINFO:lda:<1380> log likelihood: -2764678\nINFO:lda:<1390> log likelihood: -2764248\nINFO:lda:<1400> log likelihood: -2764876\nINFO:lda:<1410> log likelihood: -2764984\nINFO:lda:<1420> log likelihood: -2763933\nINFO:lda:<1430> log likelihood: -2764210\nINFO:lda:<1440> log likelihood: -2763901\nINFO:lda:<1450> log likelihood: -2763867\nINFO:lda:<1460> log likelihood: -2763668\nINFO:lda:<1470> log likelihood: -2764928\nINFO:lda:<1480> log likelihood: -2764665\nINFO:lda:<1490> log likelihood: -2764265\nINFO:lda:<1499> log likelihood: -2763965\n"
    },
    {
     "output_type": "execute_result",
     "data": {
      "text/plain": "<lda.lda.LDA at 0x125888110>"
     },
     "metadata": {},
     "execution_count": 25
    }
   ],
   "source": [
    "# 3.d) Apply the LDA model (n_iter=1500, random_state=1)\n",
    "model = lda.LDA(n_topics=20, n_iter=1500, random_state=1)\n",
    "model.fit(word_freq)"
   ]
  },
  {
   "cell_type": "code",
   "execution_count": 27,
   "metadata": {},
   "outputs": [
    {
     "output_type": "stream",
     "name": "stdout",
     "text": "Topic 0: death breaking spike past toll 24hrs piersmorgan number total fatality recorded horribly\nTopic 1: http covid19 briefing medium drtedros live conference iran press watch covid pandemic\nTopic 2: trump realdonaldtrump china country warned death navarro people threat peter would tomfitton\nTopic 3: http boris johnson minister care prime know intensive borisjohnson emergency state japan\nTopic 4: death south korea http rate trump world people first state crisis davidcorndc\nTopic 5: http stay people medical nurse ajenglish staff home tackle continues indoors urging\nTopic 6: people crisis current continues suffering accelerate drastically occupant teampelosi iran maga regime\nTopic 7: case death http total confirmed covid19 number covid report positive reported update\nTopic 8: http covid19 covid china mask corona virus pandemic read covid2019 head stayhome\nTopic 9: pandemic play point feeling realcandaceo watching arrived exact called patient quicktake help\nTopic 10: http lockdown covid start behind national pandemic today restriction italy social first\nTopic 11: http testing state help covid19 tested patient working test combat positive covid\nTopic 12: http could crisis report spread china source lockdown november early intelligence warned\nTopic 13: http pandemic help covid19 spread need home business time outbreak health worker\nTopic 14: http latest trump advice daily thanks rule getting public president shutdown medical\nTopic 15: people today help test million lockdown china contain none vietnam country cope\nTopic 16: news worker england died patient hour health fake make home america grocery\nTopic 17: http covid19 time lockdown week life lockdownextension whole imagine quarantinelife kordy90 keep\nTopic 18: http every daily press world plan briefing shown brilliant fight utterly kthopkins\nTopic 19: http covid19 lockdown pandemic update world already today place worldwide still confirmed\n"
    }
   ],
   "source": [
    "# 3.e\n",
    "topicsModel = model.topic_word_\n",
    "topicTopWords = 13\n",
    "for i, topicDist in enumerate(topicsModel):\n",
    "    topics= np.array(dictionary)[np.argsort(topicDist)][:-topicTopWords:-1]\n",
    "    print('Topic {}: {}'.format(i, ' '.join(topics)))\n"
   ]
  },
  {
   "cell_type": "code",
   "execution_count": 192,
   "metadata": {},
   "outputs": [
    {
     "output_type": "execute_result",
     "data": {
      "text/plain": "'sheltercymru': 1},\n {'httpstcoddukwpx0np': 1},\n {'httpstco2izddprs0w': 1},\n {'depraved': 1},\n {'httpstcod0kcfdncx9': 1},\n {'wahleyworldchanhobmakanju': 1},\n {'iamstayinghome': 1},\n {'sxdoc': 38},\n {'httpstcoxtbxfj4rga': 1},\n {'louder': 3},\n {'httpstcocwgpk46qvg': 1},\n {'httpstcosyjecsiju3': 1},\n {'mentio': 3},\n {'ruptly': 71},\n {'evidencethe': 1},\n {'hourhttpstcoyu7t74nkms': 1},\n {'poured': 3},\n {'arogyasetu': 51},\n {'meghanmccain': 1},\n {'whelp': 2},\n {'httpstcoxi2qayoitw': 2},\n {'httpstcoypkm2wdpiv': 1},\n {'inhumane': 31},\n {'launchin': 1},\n {'connect_ie': 1},\n {'drive-in': 2},\n {'2-12': 1},\n {'morningfix': 1},\n {'congressman': 12},\n {'httpstcocjuwnxoc3j': 1},\n {'pune': 18},\n {'senegal': 36},\n {'nakedleader': 1},\n {'neoavatara': 1},\n {'generated': 29},\n {'ladanski_1': 1},\n {'netherlandscartooningforsolidaritycoronavirusca': 1},\n {'httpstcommnn3pkghr': 1},\n {'cheryl': 1},\n {'moloch': 2},\n {'httpstcolvegujycer': 1},\n {'lhmandetta': 1},\n {'short-medium': 1},\n {'sandyryanpopp': 1},\n {'httpstco3nt5fy3sgf': 1},\n {'academic': 18},\n {'connecting': 7},\n {'improving': 58},\n {'covidbc': 1},\n {'tefa_mb': 1},\n {'needcoronaviruscovid19': 2},\n {'offsetting': 1},\n {'arogyasetuapp': 2},\n {'pre-order': 1},\n {'goanywheremft': 1},\n {'rmconservative': 16},\n {'propagandavirus': 1},\n {'httpstco7atlcjdogz': 1},\n {'httpstcog23y5mz93v': 1},\n {'htgpsren': 1},\n {'httpstco2okxewi2vt': 1},\n {'petes': 1},\n {'deborahrutan': 1},\n {'httpstcoeln3urmmp3covid19indonesia': 1},\n {'sebkraemer': 1},\n {'nalco': 1},\n {'totallytourists': 1},\n {'mohnchen': 1},\n {'metropolitan': 5},\n {'nickboles': 1},\n {'modly': 4},\n {'30-year': 3},\n {'pre-wedding': 1},\n {'httpstcogr822iofqz': 1},\n {'offl_theviper': 7},\n {'al-abba': 1},\n {'mysteriously': 1},\n {'httpstcobw': 4},\n {'tuesdaysaid': 2},\n {'odlb': 1},\n {'carlaruocco1': 1},\n {'httpstcofvwvvjjaqu': 1},\n {'cubamac24': 2},\n {'httpstcod4wqpdlcsv': 1},\n {'nintendo64': 1},\n {'iminakshijoshi': 23},\n {'httpstcocd': 1},\n {'oliverg2014': 1},\n {'shinetext': 1},\n {'golfer': 1},\n {'doubled': 3},\n {'bullied': 1},\n {'httpstcoyy7okisjg6': 1},\n {'httpstcoudvlsqorei': 1},\n {'finding': 36},\n {'farmland': 3},\n {'clogged': 1},\n {'watershed': 1},\n {'assumption': 6},\n {'httpstcopafs3vsie4': 1},\n {'natio': 1},\n {'solicitor': 16},\n {'wmerciapolice': 1},\n {'encouraged': 4},\n {'1491352': 2},\n {'howimetyourmother': 1},\n {'lockdownhttpstcoetxmtqc9b8': 1},\n {'mr_jonestweets': 1},\n {'httpstcoeidpygs1ms': 1},\n {'coronavirusjokes': 1},\n {'placesjust': 69},\n {'salvadorsanvil1': 1},\n {'sarman': 1},\n {'1940hylton': 3},\n {'diagnosis': 16},\n {'shmyhal': 1},\n {'httpstcolj0nuqvvwj': 1},\n {'deep_learing': 2},\n {'httpstcodq5efmkkbs': 1},\n {'concluded20075': 1},\n {'httpstcovi12yiglid': 1},\n {'karenfingerman': 2},\n {'httpstcoxtoockxafu': 1},\n {'dailyfxteam': 3},\n {'barksdaleafb': 1},\n {'jared': 46},\n {'danawhite': 2},\n {'httpstcoeujyrqmjv9': 1},\n {'covid19uktrend': 2},\n {'participation': 1},\n {'httpstco7eqvq7letd': 1},\n {'cream': 4},\n {'worthing': 2},\n {'oakville': 2},\n {'httpstcox6tpvx1s9h': 1},\n {'httpstcolfrwbtxbmx': 1},\n {'lack': 100},\n {'httpstcohqgexqk479': 1},\n {'httpstcokliqfkxc78': 6},\n {'paulp_7': 1},\n {'httpstcosvnj2gczoz': 1},\n {'httpstcolnspliopal': 1},\n {'thep': 2},\n {'disinfecting': 3},\n {'unemploymentbenefits': 1},\n {'animation': 12},\n {'pinkmoon': 10},\n {'httpstcor3mejqxzss': 1},\n {'httpstcoajpujrgl4s': 1},\n {'pepsitrump': 1},\n {'healtheworld2020': 1},\n {'juliahimmrichs': 1},\n {'wisdomwednesday': 1},\n {'formerly': 1},\n {'paperon': 1},\n {'httpstcoswjlzm2bjz': 1},\n {'mrmarkhenley': 1},\n {'httpstcoeg0sc2bdsg': 1},\n {'jwhittak_physio': 1},\n {'httpstcoujpfxpj6zr': 1},\n {'mormon': 1},\n {'mated': 2},\n {'httpstcoewnov8e1nc': 1},\n {'throe': 1},\n {'bneibrak': 1},\n {'dparvaz': 3},\n {'global': 436},\n {'httpstcopjxqehmdwq': 1},\n {'harvest': 6},\n {'httpstcowpvtdlhqvw': 1},\n {'shrunk': 1},\n {'httpstcopp60rlhgip': 1},\n {'wildnetorg': 1},\n {'100000': 41},\n {'childhood': 1},\n {'iamahmad': 1},\n {'dish': 5},\n {'zaadoptujfaceta': 1},\n {'httpstco0ksgw4apcl': 1},\n {'hampering': 6},\n {'httpstcolvj2wirjb1': 1},\n {'chronic': 14},\n {'planting': 1},\n {'anaujarb': 3},\n {'weakening': 2},\n {'ship': 41},\n {'latest-': 38},\n {'m0heather': 1},\n {'httpstco8hjts6h2bj': 1},\n {'bupengoy': 2},\n {'httpstconst0wa84g3': 1},\n {'terminal': 1},\n {'jannah': 4},\n {'breakneck': 17},\n {'deathsthis': 1},\n {'httpstcobdb6o41ofo': 1},\n {'tweeps': 1},\n {'httpstcotcm2i2abhu': 1},\n {'miltonkeynsie': 1},\n {'httpstcouovgwdr6ay': 1},\n {'httpstcotip1tyqxfp': 1},\n {'httpstcoptzprdat0z': 1},\n {'httpstcooeveaxjso4': 1},\n {'stanmore': 1},\n {'cana': 1},\n {'httpstcocxbjpja1bc': 1},\n {'httpstcorqopbsxo70': 1},\n {'rishikasadam': 2},\n {'cpu-233contmp': 1},\n {'economy': 214},\n {'plunging': 20},\n {'bishopburbidge': 2},\n {'continued': 6},\n {'bishopakor': 1},\n {'actionjacksonsc': 1},\n {'6932': 1},\n {'httpstcoak0hlmlz6i': 1},\n {'httpstcodnq3dvj4jy': 1},\n {'alagos': 2},\n {'injured': 3},\n {'2look': 1},\n {'pghdrew': 2},\n {'ravi': 1},\n {'stranded': 8},\n {'httpstcocickse375z': 1},\n {'httpstcoo9rigbtodu': 1},\n {'deliver': 51},\n {'moanin': 5},\n {'haitian': 1},\n {'resanskrit': 1},\n {'nhsworkers': 4},\n {'aware': 173},\n {'eventsthe': 1},\n {'repatriation': 3},\n {'dramatically': 6},\n {'httpstcot7yjoqkyvb': 1},\n {'httpstcox2grnwtop6': 1},\n {'kctv5': 3},\n {'nytimesworld': 3},\n {'janisfrayer': 2},\n {'secambulance': 5},\n {'sergbibik2018': 5},\n {'parisdennard': 6},\n {'appropriated': 1},\n {'httpstcosvfcjmn8zp': 1},\n {'popu': 1},\n {'playbookthegreatawakening': 1},\n {'dailystarnews': 4},\n {'httpstco8liopzehw3': 1},\n {'seekhaven': 1},\n {'httpstconr7ghxxhop': 1},\n {'httpstco62opiixnjq': 1},\n {'ralphnortham': 1},\n {'hbsalumni': 1},\n {'httpstcos3igy9qfwa': 1},\n {'restarting': 2},\n {'malala': 3},\n {'httpstcocxcrizvqk7': 1},\n {'httpstcoutlfptfqhy': 3},\n {'httpstcoxeymkmrxk8': 1},\n {'-spain': 1},\n {'microbe': 3},\n {'tumma72': 1},\n {'fearsfollow': 1},\n {'httpstcoyfr3l64ls8': 1},\n {'pointswrecked': 1},\n {'dodge': 1},\n {'antman': 10},\n {'coronavirusyouth': 2},\n {'retarded': 15},\n {'judicialwatch': 24},\n {'httpstcof8omh80acw': 1},\n {'luislacombe': 1},\n {'hpl26050696': 1},\n {'coronavirusread': 5},\n {'clip': 14},\n {'httpstco6yqbxddqqf': 1},\n {'danieldbunn': 1},\n {'nepalpolicehq': 43},\n {'thedenofnerds': 1},\n {'slowthespread': 2},\n {'httpstcowbngozcbsk': 1},\n {'remotely': 13},\n {'wandering': 1},\n {'httpstcob7ncodnbst': 1},\n {'dismissed': 6},\n {'helpstaiwancanhelpcoronaviruschinaliedpeopledied': 1},\n {'httpstco96hdinudks': 1},\n {'drewlearns2': 1},\n {'viruses': 1},\n {'daynaliffey': 1},\n {'httpstcosra5jycobx': 1},\n {'westchestergov': 1},\n {'httpstcos3pbkrqg12': 1},\n {'arabtimeskuwait': 10},\n {'comparatively': 1},\n {'raffanini': 1},\n {'ussanews': 1},\n {'45harisonharold': 4},\n {'dentalhealthorg': 1},\n {'httpstcolhtnssktef': 1},\n {'middlemarket': 4},\n {'httpstcooi8s3ic5oh': 1},\n {'coronapandemichttpstcorvcjnmqqm7china': 1},\n {'pubghttpstcox9gddu9hz3': 1},\n {'ldynj1': 2},\n {'waymorrispromo': 1},\n {'nesara': 1},\n {'httpstcontzpva7mzt': 1},\n {'neworleans': 1},\n {'sharon_l_c': 1},\n {'brussels': 2},\n {'time': 1894},\n {'usapray': 9},\n {'concerning': 14},\n {'eboss68': 1},\n {'legging': 8},\n {'tedhankycomedy': 1},\n {'juliahartleybrewer': 1},\n {'ofarrellplague': 1},\n {'iubloomington': 1},\n {'arccltd': 3},\n {'wecansew': 1},\n {'httpstcoyuctzwms0j': 1},\n {'bandyxlee1': 1},\n {'28covid19': 1},\n {'protectthenhs': 6},\n {'shashitharoor': 4},\n {'bernie': 23},\n {'nollywood': 3},\n {'harleyquinn472': 5},\n {'israaid': 1},\n {'greekcitytimes': 1},\n {'inevitable_et': 1},\n {'expresscc': 2},\n {'httpstcojkcroxzest': 1},\n {'faso': 1},\n {'flannel': 33},\n {'httpstcorzwmsvy94o': 1},\n {'httpstcooimqxckiea': 1},\n {'adfmagazine': 2},\n {'jesus': 30},\n {'httpstcomtuni': 3},\n {'httpstcomypy7zdoeu': 1},\n {'167170': 1},\n {'narcissist': 3},\n {'sandhya': 1},\n {'guest': 26},\n {'smallbusinessowners': 3},\n {'caseshttpstco7xg4og3ocp': 1},\n {'httpstcojt99c0znb6': 1},\n {'httpstconzjmpms6ry': 1},\n {'george': 54},\n {'celebrated': 2},\n {'appealed': 1},\n {'httpstco2hq7cuy9m6': 1},\n {'asianamerican': 1},\n {'daynurseriesuk': 1},\n {'httpstcowkgmqnx05n': 1},\n {'httpstcoebnnepgobf': 1},\n {'timmacdonell': 1},\n {'legoncitiesfc': 2},\n {'pacem': 1},\n {'introduce': 10},\n {'tech': 26},\n {'navid2019': 2},\n {'httpstco8mgeo9wxdp': 1},\n {'httpstcodsfazevlee': 1},\n {'htscotpol': 1},\n {'cgttuifrance': 17},\n {'curious132': 1},\n {'buenomalafeo': 1},\n {'httpstcoibwxjoqaqz': 1},\n {'newborncoronavirus': 1},\n {'wsvn': 7},\n {'ccsimpact': 1},\n {'histo': 4},\n {'williamhboney1': 3},\n {'granisnark12': 1},\n {'night-time': 3},\n {'joshrogin': 4},\n {'shoulder': 5},\n {'remived': 1},\n {'impl': 1},\n {'dontif': 46},\n {'httpstcoij7phamgpz': 2},\n {'bimari': 1},\n {'httpstcomhl5l6749k': 1},\n {'chicompa-19': 1},\n {'httpstcoz8ekehxcyt': 1},\n {'boghche': 2},\n {'pharmaphorum': 1},\n {'rehan_khan_6090': 2},\n {'guard': 24},\n {'dividecovid19': 1},\n {'vidsi': 1},\n {'lambikstoemper': 1},\n {'gartner_inc': 7},\n {'chalk': 1},\n {'solo': 1},\n {'reclassifying': 1},\n {'httpstcojrepo5txdc': 1},\n {'fifteen': 6},\n {'bbcnewslinedt': 1},\n {'boat': 4},\n {'1997-with': 1},\n {'travisscott': 1},\n {'httpstco8jsqbcvsik': 1},\n {'investmt': 1},\n {'httpstcohaxcbyozvs': 1},\n {'seyyedjavad92': 1},\n {'liamwbz': 10},\n {'gerrrty': 4},\n {'httpstcovraojumkqe': 1},\n {'httpstconpfyobkbw1': 1},\n {'threatened': 53},\n {'inthistogetherohio': 2},\n {'ajithkumar': 54},\n {'httpstcoiedrvq0nbf': 1},\n {'httpstcol0ysofkodb': 1},\n {'httpstcoyu8j7n5kcj': 1},\n {'httpstcouqcannwmcd': 1},\n {'httpstco6csr0nzajp': 1},\n {'httpstcov5dqhmjvuo': 1},\n {'appropriately': 1},\n {'ocean': 2},\n {'bestfight': 1},\n {'date': 49},\n {'httpstcorv8vhcxssc': 1},\n {'situationhttpstcog7vbo7hkpy': 1},\n {'feartake': 3},\n {'outrage': 3},\n {'httpstcooggph3cb0j': 1},\n {'corona-long-term-development': 2},\n {'covidgermany': 1},\n {'httpstcotghbttv38q': 1},\n {'abilitytoday': 1},\n {'cdctips': 2},\n {'recommendation': 11},\n {'appletv': 1},\n {'complex': 8},\n {'announceme': 1},\n {'confirme': 1},\n {'httpstcovpqpnclvry': 1},\n {'alhurranews': 1},\n {'httpstcokgequzodew': 1},\n {'1313': 1},\n {'binmen': 4},\n {'renfrewshirecab': 1},\n {'silvercloudh': 2},\n {'howe': 1},\n {'material': 11},\n {'farm': 10},\n {'slime': 1},\n {'httpstcogdh43fguhp': 1},\n {'atmosphere': 3},\n {'vimeo': 1},\n {'deathstoday30000': 1},\n {'jaey': 2},\n {'httpstcofobx9tqu23': 1},\n {'namaste': 2},\n {'adamsonhomes': 1},\n {'jaybhag': 1},\n {'borrows': 1},\n {'discovercovid': 1},\n {'hygien': 2},\n {'httpstcomsjxd0bhpe': 1},\n {'about-': 1},\n {'empowering': 2},\n {'mandate': 5},\n {'wirobooks': 2},\n {'secretary': 39},\n {'httpstcosemg9pcs3t': 1},\n {'xpressandhra': 6},\n {'tigerkingnetflix': 3},\n {'ayds': 1},\n {'france': 226},\n {'hughcahill7': 1},\n {'httpstcox6xhmtxzou': 1},\n {'httpstcosljiw74qyk': 1},\n {'loss': 75},\n {'coronacoronawarriors': 1},\n {'tirelessly': 7},\n {'dad': 9},\n {'melo_myers': 13},\n {'httpstcopaofzmeus4': 1},\n {'comprehension': 2},\n {'junaidnabimd': 1},\n {'elconfidencial': 1},\n {'httpstcoj4bdznsxcx': 1},\n {'awaycoronavirus': 3},\n {'httpstco4v6rufpjjx': 2},\n {'refresher': 1},\n {'benwikler': 2},\n {'seafarer': 5},\n {'gopichand': 3},\n {'dama': 3},\n {'httpstcobrqj9pz': 1},\n {'gadph': 1},\n {'apologist': 2},\n {'non-partisan': 1},\n {'brothermufc': 1},\n {'httpstcokvom01h0c0': 1},\n {'httpstcoex7gbpdysk': 1},\n {'httpstco76gks9vpjh': 1},\n {'re-emerge': 1},\n {'naples': 1},\n {'httpstcomanj06uvom': 1},\n {'btsindia': 1},\n {'httpstco9el7jkzbz1': 1},\n {'checklist': 3},\n {'individua': 2},\n {'manage': 18},\n {'huddersfield': 1},\n {'httpstconbv58jmg8a': 1},\n {'fasb': 3},\n {'httpstcoosiojoihvo': 3},\n {'httpstcois9zwytaxy': 1},\n {'examined': 5},\n {'weareinthistogether': 4},\n {'earl': 2},\n {'healthyscc': 2},\n {'livesplease': 1},\n {'bk6785': 2},\n {'insomniadoodles': 1},\n {'jigsaw': 1},\n {'coronaviruscovid-19': 5},\n {'httpstcob9d8t4qxla': 1},\n {'httpstcorptug3q8nv': 1},\n {'muralik79739498': 6},\n {'forgetting': 5},\n {'httpstcorgv57xpptv': 1},\n {'iagovernor': 3},\n {'wwfinancial': 2},\n {'gfernandoamb': 1},\n {'httpstcosvbimhp36n': 1},\n {'httpstcoeff0jdwumx': 1},\n {'carodirusso': 1},\n {'httpstcokj9nzdaesh': 1},\n {'gavinnewsom16957': 2},\n {'cityofboston': 2},\n {'condemning': 2},\n {'ordered': 52},\n {'httpstcoz2tlwkyw57': 1},\n {'chinascience': 2},\n {'morpeth': 1},\n {'install': 1},\n {'dang': 1},\n {'20200': 2},\n {'takecareofyourself': 1},\n {'meditate': 1},\n {'httpstcooasxavuyjq': 1},\n {'airing': 3},\n {'httpstcoadl5sodges': 1},\n {'jbervar': 1},\n {'httpstco8jpwp4yupg': 1},\n {'ourheanor': 1},\n {'skillihttpstcovc88rg9sxu': 1},\n {'httpstcod0mb7ryrax': 1},\n {'celinegounder': 12},\n {'billy': 3},\n {'diversify': 1},\n {'httpstcouojljko7rm': 1},\n {'httpstco12wwayjpap': 1},\n {'httpstcocyodtrm0pq': 1},\n {'sandravogelaar': 3},\n {'httpstcovykowl0pi4': 1},\n {'httpstcobfidney7ey': 1},\n {'httpstco8nitc9gwur': 1},\n {'twitterhttpstco2fn7gd87sk': 2},\n {'arrogant': 1},\n {'s386isgoodforamerica': 15},\n {'policymaking': 1},\n {'performanceat': 1},\n {'httpstcoj7qorde2cx': 1},\n {'httpstcohqp9ujstlx': 1},\n {'httpstcolcvdkzidry': 1},\n {'stefano': 1},\n {'httpstcou8wnihsuva': 1},\n {'andrew_omahony': 2},\n {'thelibrepublic': 1},\n {'httpstcol0rwn6axw8': 31},\n {'elsesleep': 1},\n {'140510italy132547germany103375france': 1},\n {'httpstcoxjmuvbdu0xcovid19': 1},\n {'criminal': 96},\n {'coronavirususe': 1},\n {'reconfigure': 1},\n {'tpsdadm': 1},\n {'resteve': 1},\n {'psb_dc': 1},\n {'httpstconkijdgbwhm': 2},\n {'httpstco0j4rpbh96k': 1},\n {'thankscovid19': 1},\n {'dsteketee97': 1},\n {'httpstcogfnskdzhbk': 1},\n {'e-learn': 1},\n {'frankstohl': 1},\n {'httpstcoifxfhf4cte': 1},\n {'httpstcohgz5mqxerh': 1},\n {'narendra': 3},\n {'stayawarestaysafe': 12},\n {'katrina': 2},\n {'oviedo': 1},\n {'httpstcokampen6ubg': 3},\n {'gurjotsbhatia': 1},\n {'shawndecker': 1},\n {'httpstcok3zc0olmal': 1},\n {'httpstcocnfxoetkzk': 1},\n {'surreyjld': 2},\n {'johnsen81': 1},\n {'httpstcoicql8pgkxz': 1},\n {'freque': 2},\n {'httpstcoi0efwuifzj': 1},\n {'doddie': 1},\n {'revisit': 4},\n {'httpstco4jhsaoct8r': 1},\n {'coach': 8},\n {'makessense': 1},\n {'idzpodpradpl': 1},\n {'grant_blank_': 2},\n {'riccobarrino': 1},\n {'outbreakh2020': 3},\n {'porte': 4},\n {'keithboykin': 1},\n {'sandwich': 1},\n {'httpstco4soudzlikt': 1},\n {'grazie': 22},\n {'sandeepav': 1},\n {'pand': 31},\n {'disinfectiontunnel': 2},\n {'headthe': 13},\n {'shortens': 1},\n {'mekialaya': 2},\n {'theglobalhack': 2},\n {'himalistan': 14},\n {'juniorattorney': 1},\n {'stabilizing': 2},\n {'convid-19': 2},\n {'shocked': 6},\n {'uttarakhand': 9},\n {'jobretentionscheme': 3},\n {'alzheimerssoc': 1},\n {'mikaqueenzzzz': 1},\n {'httpstcooli8hrmg67': 1},\n {'min15_10bill': 1},\n {'crewthe': 1},\n {'forcrosscut': 3},\n {'ukemplaw': 2},\n {'overseer': 1},\n {'ppewhat': 3},\n {'korean': 5},\n {'pauldashworth': 8},\n {'situationcurrently': 2},\n {'pandemici': 3},\n {'screensaver': 4},\n {'editiongriffindoor': 2},\n {'paramilitary': 2},\n {'docpakistan': 1},\n {'treatment': 263},\n {'peterschorschfl': 1},\n {'iamcaritas': 1},\n {'httpstcokmw74glwsg': 1},\n {'mum-to-be': 2},\n {'myanmarhttpstcopjlc': 1},\n {'httpstcokogfpcfx37': 1},\n {'mayhaps_so': 1},\n {'httpstcomzovepbefw': 1},\n {'httpstcoit8sbdlna4': 1},\n {'httpstcoe5rc2jbezu': 28},\n {'caputo_teddy': 1},\n {'pointless': 1},\n {'httpstco3h7zvmeamx': 1},\n {'kris': 1},\n {'antarctic': 5},\n {'russianvids': 7},\n {'httpstcomqvjhr2cpe': 1},\n {'pose': 16},\n {'worldhealthdaystayhomeindia': 1},\n {'httpstcoe36baz2llv': 1},\n {'stripe': 2},\n {'coronavirusdeaths': 4},\n {'httpstcorkkl2tc76w': 1},\n {'unforgivable': 3},\n {'prepa': 3},\n {'covid19nopeople': 1},\n {'pre-planned': 6},\n {'pressurizing': 1},\n {'bustling': 17},\n {'miscommunicat': 1},\n {'trumpistheworstpresidentever': 11},\n {'httpstcobz1hb3tvns': 1},\n {'detai': 2},\n {'charitytuesday': 1},\n {'juanfarkall': 1},\n {'mohfw_india': 19},\n {'antibiotic': 4},\n {'betwee': 1},\n {'worthless': 1},\n {'coronavirush': 9},\n {'survival': 10},\n {'httpstco9e15r6zyjc': 1},\n {'changer': 1},\n {'indoorsborisjohnson': 1},\n {'covid19italia': 54},\n {'statescovid19': 1},\n {'vidnewyork': 1},\n {'airi': 3},\n {'viruscorona': 1},\n {'jessefrommma': 1},\n {'jayegaindia': 1},\n {'httpstco3ldkrdlqfa': 1},\n {'zippy': 1},\n {'httpstcom6bmaa2z9a': 1},\n {'teenpack': 3},\n {'httpstcoiqks2yuwqu': 1},\n {'happybirthdayalluarjun': 9},\n {'infested': 1},\n {'wgecontransport': 5},\n {'carolina': 13},\n {'ashokhajeri': 1},\n {'httpstcozghlxlg1z1': 1},\n {'282074': 1},\n {'httpstcozf9pqy3s': 1},\n {'spur': 6},\n {'livesprotect': 15},\n {'guardianmoney': 1},\n {'httpstcopnoynw9hbqufc': 1},\n {'httpstcokzx9kdgvu2': 1},\n {'hand-': 1},\n {'maccabiah': 1},\n {'tagging': 3},\n {'oddlfysatisfying': 1},\n {'businessdotcom': 1},\n {'preference': 1},\n {'httpstcoxoqk36l2xc': 2},\n {'wind': 6},\n {'upstateny': 1},\n {'average': 17},\n {'httpstcojsjuvbjw': 1},\n {'tunay': 1},\n {'vadivale': 1},\n {'lymedisease': 1},\n {'liquidation': 10},\n {'correlation': 3},\n {'httpstconzolps6omi': 1},\n {'5655the': 1},\n {'httpstcopjwesygyhe': 1},\n {'httpstcozuzyv8jhep': 1},\n {'httpstcow6xknvav0g': 1},\n {'204follow': 1},\n {'dangerous': 46},\n {'httpstcozsnz': 1},\n {'covid19does': 1},\n {'httpstcocytbwtrip5': 1},\n {'nothingchair': 2},\n {'windrush': 9},\n {'clearly': 19},\n {'prove': 42},\n {'httpstcofjdsiwgi1m': 1},\n {'futuremediachange': 1},\n {'10869': 2},\n {'trumpy': 2},\n {'httpstcolnir3lwibu': 1},\n {'goshen': 1},\n {'covid19total': 5},\n {'late-january': 1},\n {'birt': 1},\n {'httpstcozvflkc5r8w': 1},\n {'twitterhas': 1},\n {'httpstcolni8vq3whl': 1},\n {'dfwbgh': 1},\n {'likel': 1},\n {'connectingvets': 1},\n {'dramatical': 1},\n {'workathome': 1},\n {'cameroon': 4},\n {'nkyiota2010': 1},\n {'tomor': 1},\n {'essence': 1},\n {'indianmedia': 1},\n {'begun': 7},\n {'habeas': 1},\n {'silver': 11},\n {'lagov': 2},\n {'cdnp': 1},\n {'151807': 1},\n {'sandraschulze': 2},\n {'proliferates': 2},\n {'null': 1},\n {'termed': 1},\n {'livesfor': 1},\n {'httpstcov0nhj7jhlh': 1},\n {'5gison': 6},\n {'crowd2fund': 1},\n {'niosh': 1},\n {'httpstcowmdx0epe89': 1},\n {'andyostroy': 4},\n {'drjitendrasingh': 4},\n {'httpstco8ilstyf8g2': 1},\n {'httpstcoffleweucmh': 1},\n {'httpstcoiowodhpqwc': 1},\n {'gradual': 104},\n {'httpstcodh0br5wq4d': 1},\n {'httpstcoy0h2dh04hh': 1},\n {'detroitdm': 1},\n {'httpstcoyz4w4agx4d': 1},\n {'staten': 1},\n {'retweeet': 1},\n {'harder': 39},\n {'httpstco7wfeldkydr': 2},\n {'httpstcol7cyuvu7de': 1},\n {'scotgov': 90},\n {'knowcoronavirus': 1},\n {'httpstcobjfpw44ufu': 1},\n {'httpstcou3npjidcws': 1},\n {'httpstcosvcbaqucw6': 6},\n {'3d-printed': 5},\n {'httpstcoydkrsxwvcc': 1},\n {'scrambling': 12},\n {'vegetable': 9},\n {'senatorwicker': 1},\n {'funky': 3},\n {'wks-refused': 1},\n {'smal': 1},\n {'algreen': 2},\n {'httpstcoe6f1yxhxkb': 1},\n {'httpstco1rchi4nt3w': 1},\n {'argued': 1},\n {'deathsfirst': 1},\n {'zoomvideo': 1},\n {'cenmag': 1},\n {'crisiswatch': 3},\n {'2007-08': 2},\n {'ezracheungtoto': 2},\n {'therock': 1},\n {'httpstco3s4zc0ilsa': 1},\n {'iranrazi': 9},\n {'phishing': 3},\n {'pritipatel': 1},\n {'remote-work': 1},\n {'blue-ish': 1},\n {'kpoppredictions': 1},\n {'mortgage': 15},\n {'attendee': 8},\n {'httpstcoie98wgqe0b': 1},\n {'vishnuguptuvach': 4},\n {'judith': 2},\n {'jetrotter': 9},\n {'chaplain': 16},\n {'cases-': 11},\n {'uarizona': 1},\n {'ghbledsoe': 2},\n {'shahtito': 1},\n {'pivoted': 1},\n {'cockneycampaign': 3},\n {'saturday': 17},\n {'ajah': 1},\n {'videocoronavirus': 4},\n {'pidescubas': 1},\n {'esouthershve': 1},\n {'1-5pm': 1},\n {'informedcoronavirus': 1},\n {'self-help': 3},\n {'zimpfer': 1},\n {'rotherham': 1},\n {'encourage': 22},\n {'httpstco46eghvnezf': 1},\n {'flag': 34},\n {'seattle': 41},\n {'httpstcorbai2zvruv': 1},\n {'httpstcoqk13ebnssk': 1},\n {'subsidence': 1},\n {'httpstcozoflbptpzd': 1},\n {'sec': 1},\n {'aamir_khan': 13},\n {'archive': 1},\n {'symptomsi': 1},\n {'httpstcowbkdspttjx': 1},\n {'dummy': 8},\n {'topped': 3},\n {'httpstconbzjjhpvnq': 1},\n {'brazi': 1},\n {'covid19pand': 1},\n {'zippy94400851': 1},\n {'4700': 1},\n {'eu_commissions': 2},\n {'67angie': 1},\n {'httpstcoelagplpawo': 1},\n {'aliarouzi': 15},\n {'curamericasglobal': 1},\n {'httpstcoec4ny7gsin': 1},\n {'httpstcoqqspebldtx': 1},\n {'novemberwednesdaywisdom': 22},\n {'httpstcofycejtx0yb': 1},\n {'laboratory': 38},\n {'tokyo': 84},\n {'bushfires': 1},\n {'httpstco1q7mqc0802': 1},\n {'publi': 3},\n {'cbsthismorning': 54},\n {'cooperate': 17},\n {'misinformed': 1},\n {'empathynow': 1},\n {'httpstcomttbyfl5up': 1},\n ...]"
     },
     "metadata": {},
     "execution_count": 192
    }
   ],
   "source": [
    "# no word filtering: Transform each document to a vectorized form by computing the frequency of each word. \n",
    "list(map(lambda x: {x:wordUniqTokenize.count(x)}, set(wordUniqTokenize))) "
   ]
  }
 ],
 "metadata": {
  "language_info": {
   "codemirror_mode": {
    "name": "ipython",
    "version": 3
   },
   "file_extension": ".py",
   "mimetype": "text/x-python",
   "name": "python",
   "nbconvert_exporter": "python",
   "pygments_lexer": "ipython3",
   "version": "3.7.7-final"
  },
  "orig_nbformat": 2,
  "kernelspec": {
   "name": "python37764bita017458ec7e641888374a390078b9fd1",
   "display_name": "Python 3.7.7 64-bit"
  }
 },
 "nbformat": 4,
 "nbformat_minor": 2
}